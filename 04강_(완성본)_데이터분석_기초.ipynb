{
  "nbformat": 4,
  "nbformat_minor": 0,
  "metadata": {
    "colab": {
      "provenance": [],
      "include_colab_link": true
    },
    "kernelspec": {
      "name": "python3",
      "display_name": "Python 3"
    }
  },
  "cells": [
    {
      "cell_type": "markdown",
      "metadata": {
        "id": "view-in-github",
        "colab_type": "text"
      },
      "source": [
        "<a href=\"https://colab.research.google.com/github/formula008/T23_02_SW-AI-BigData_Mentoring/blob/main/04%EA%B0%95_(%EC%99%84%EC%84%B1%EB%B3%B8)_%EB%8D%B0%EC%9D%B4%ED%84%B0%EB%B6%84%EC%84%9D_%EA%B8%B0%EC%B4%88.ipynb\" target=\"_parent\"><img src=\"https://colab.research.google.com/assets/colab-badge.svg\" alt=\"Open In Colab\"/></a>"
      ]
    },
    {
      "cell_type": "markdown",
      "metadata": {
        "id": "uysixUXqPykY"
      },
      "source": [
        "# 0. 들어가기 전에, 한글 폰트 설정해주기\n",
        "\n",
        "#### 코랩에서 한글 폰트 설정\n",
        "1) 한글 폰트 코드 실행\n",
        "\n",
        "```\n",
        "!sudo apt-get install -y fonts-nanum\n",
        "!sudo fc-cache -fv\n",
        "!rm ~/.cache/matplotlib -rf\n",
        "```\n",
        "\n",
        "2) 런타임 - 런타임 다시시작\n",
        "\n",
        "3) 글꼴 지정 명령어\n",
        "\n",
        "```\n",
        "plt.rc('font', family='NanumGothic')\n",
        "```\n",
        "\n"
      ]
    },
    {
      "cell_type": "code",
      "metadata": {
        "colab": {
          "base_uri": "https://localhost:8080/"
        },
        "id": "gbH02KhmPw6_",
        "outputId": "ae418ac5-2976-4f3c-f781-6f1e2c35bcb0"
      },
      "source": [
        "!sudo apt-get install -y fonts-nanum\n",
        "!sudo fc-cache -fv\n",
        "!rm ~/.cache/matplotlib -rf"
      ],
      "execution_count": 1,
      "outputs": [
        {
          "output_type": "stream",
          "name": "stdout",
          "text": [
            "Reading package lists... Done\n",
            "Building dependency tree... Done\n",
            "Reading state information... Done\n",
            "The following NEW packages will be installed:\n",
            "  fonts-nanum\n",
            "0 upgraded, 1 newly installed, 0 to remove and 19 not upgraded.\n",
            "Need to get 10.3 MB of archives.\n",
            "After this operation, 34.1 MB of additional disk space will be used.\n",
            "Get:1 http://archive.ubuntu.com/ubuntu jammy/universe amd64 fonts-nanum all 20200506-1 [10.3 MB]\n",
            "Fetched 10.3 MB in 0s (22.5 MB/s)\n",
            "debconf: unable to initialize frontend: Dialog\n",
            "debconf: (No usable dialog-like program is installed, so the dialog based frontend cannot be used. at /usr/share/perl5/Debconf/FrontEnd/Dialog.pm line 78, <> line 1.)\n",
            "debconf: falling back to frontend: Readline\n",
            "debconf: unable to initialize frontend: Readline\n",
            "debconf: (This frontend requires a controlling tty.)\n",
            "debconf: falling back to frontend: Teletype\n",
            "dpkg-preconfigure: unable to re-open stdin: \n",
            "Selecting previously unselected package fonts-nanum.\n",
            "(Reading database ... 120874 files and directories currently installed.)\n",
            "Preparing to unpack .../fonts-nanum_20200506-1_all.deb ...\n",
            "Unpacking fonts-nanum (20200506-1) ...\n",
            "Setting up fonts-nanum (20200506-1) ...\n",
            "Processing triggers for fontconfig (2.13.1-4.2ubuntu5) ...\n",
            "/usr/share/fonts: caching, new cache contents: 0 fonts, 1 dirs\n",
            "/usr/share/fonts/truetype: caching, new cache contents: 0 fonts, 3 dirs\n",
            "/usr/share/fonts/truetype/humor-sans: caching, new cache contents: 1 fonts, 0 dirs\n",
            "/usr/share/fonts/truetype/liberation: caching, new cache contents: 16 fonts, 0 dirs\n",
            "/usr/share/fonts/truetype/nanum: caching, new cache contents: 12 fonts, 0 dirs\n",
            "/usr/local/share/fonts: caching, new cache contents: 0 fonts, 0 dirs\n",
            "/root/.local/share/fonts: skipping, no such directory\n",
            "/root/.fonts: skipping, no such directory\n",
            "/usr/share/fonts/truetype: skipping, looped directory detected\n",
            "/usr/share/fonts/truetype/humor-sans: skipping, looped directory detected\n",
            "/usr/share/fonts/truetype/liberation: skipping, looped directory detected\n",
            "/usr/share/fonts/truetype/nanum: skipping, looped directory detected\n",
            "/var/cache/fontconfig: cleaning cache directory\n",
            "/root/.cache/fontconfig: not cleaning non-existent cache directory\n",
            "/root/.fontconfig: not cleaning non-existent cache directory\n",
            "fc-cache: succeeded\n"
          ]
        }
      ]
    },
    {
      "cell_type": "markdown",
      "metadata": {
        "id": "R032dHnvuLca"
      },
      "source": [
        "# 1. 파일 업로드\n",
        "\n",
        "#### csv 파일이란?\n",
        "comma seperated values의 약자로\n",
        "콤마(,)로 분리된 파일\n",
        "\n",
        "<img src='https://github.com/teacher-jiejie/allinone_AI/blob/images/18_csv%ED%8C%8C%EC%9D%BC.png?raw=true' width=800>\n",
        "\n",
        "\n",
        "\n",
        "```\n",
        "# 코랩에 파일 업로드하는 방법\n",
        "\n",
        "from google.colab import files\n",
        "uploaded = files.upload()\n",
        "```\n",
        "\n"
      ]
    },
    {
      "cell_type": "code",
      "metadata": {
        "id": "xMe9NjEmuO2o",
        "colab": {
          "base_uri": "https://localhost:8080/",
          "height": 77
        },
        "outputId": "64096720-fb6e-421d-8bcf-8225a7fd4a65"
      },
      "source": [
        "from google.colab import files\n",
        "uploaded = files.upload()"
      ],
      "execution_count": 1,
      "outputs": [
        {
          "output_type": "display_data",
          "data": {
            "text/plain": [
              "<IPython.core.display.HTML object>"
            ],
            "text/html": [
              "\n",
              "     <input type=\"file\" id=\"files-cc6831d2-76bb-414d-b5ad-52b7a3b50e1b\" name=\"files[]\" multiple disabled\n",
              "        style=\"border:none\" />\n",
              "     <output id=\"result-cc6831d2-76bb-414d-b5ad-52b7a3b50e1b\">\n",
              "      Upload widget is only available when the cell has been executed in the\n",
              "      current browser session. Please rerun this cell to enable.\n",
              "      </output>\n",
              "      <script>// Copyright 2017 Google LLC\n",
              "//\n",
              "// Licensed under the Apache License, Version 2.0 (the \"License\");\n",
              "// you may not use this file except in compliance with the License.\n",
              "// You may obtain a copy of the License at\n",
              "//\n",
              "//      http://www.apache.org/licenses/LICENSE-2.0\n",
              "//\n",
              "// Unless required by applicable law or agreed to in writing, software\n",
              "// distributed under the License is distributed on an \"AS IS\" BASIS,\n",
              "// WITHOUT WARRANTIES OR CONDITIONS OF ANY KIND, either express or implied.\n",
              "// See the License for the specific language governing permissions and\n",
              "// limitations under the License.\n",
              "\n",
              "/**\n",
              " * @fileoverview Helpers for google.colab Python module.\n",
              " */\n",
              "(function(scope) {\n",
              "function span(text, styleAttributes = {}) {\n",
              "  const element = document.createElement('span');\n",
              "  element.textContent = text;\n",
              "  for (const key of Object.keys(styleAttributes)) {\n",
              "    element.style[key] = styleAttributes[key];\n",
              "  }\n",
              "  return element;\n",
              "}\n",
              "\n",
              "// Max number of bytes which will be uploaded at a time.\n",
              "const MAX_PAYLOAD_SIZE = 100 * 1024;\n",
              "\n",
              "function _uploadFiles(inputId, outputId) {\n",
              "  const steps = uploadFilesStep(inputId, outputId);\n",
              "  const outputElement = document.getElementById(outputId);\n",
              "  // Cache steps on the outputElement to make it available for the next call\n",
              "  // to uploadFilesContinue from Python.\n",
              "  outputElement.steps = steps;\n",
              "\n",
              "  return _uploadFilesContinue(outputId);\n",
              "}\n",
              "\n",
              "// This is roughly an async generator (not supported in the browser yet),\n",
              "// where there are multiple asynchronous steps and the Python side is going\n",
              "// to poll for completion of each step.\n",
              "// This uses a Promise to block the python side on completion of each step,\n",
              "// then passes the result of the previous step as the input to the next step.\n",
              "function _uploadFilesContinue(outputId) {\n",
              "  const outputElement = document.getElementById(outputId);\n",
              "  const steps = outputElement.steps;\n",
              "\n",
              "  const next = steps.next(outputElement.lastPromiseValue);\n",
              "  return Promise.resolve(next.value.promise).then((value) => {\n",
              "    // Cache the last promise value to make it available to the next\n",
              "    // step of the generator.\n",
              "    outputElement.lastPromiseValue = value;\n",
              "    return next.value.response;\n",
              "  });\n",
              "}\n",
              "\n",
              "/**\n",
              " * Generator function which is called between each async step of the upload\n",
              " * process.\n",
              " * @param {string} inputId Element ID of the input file picker element.\n",
              " * @param {string} outputId Element ID of the output display.\n",
              " * @return {!Iterable<!Object>} Iterable of next steps.\n",
              " */\n",
              "function* uploadFilesStep(inputId, outputId) {\n",
              "  const inputElement = document.getElementById(inputId);\n",
              "  inputElement.disabled = false;\n",
              "\n",
              "  const outputElement = document.getElementById(outputId);\n",
              "  outputElement.innerHTML = '';\n",
              "\n",
              "  const pickedPromise = new Promise((resolve) => {\n",
              "    inputElement.addEventListener('change', (e) => {\n",
              "      resolve(e.target.files);\n",
              "    });\n",
              "  });\n",
              "\n",
              "  const cancel = document.createElement('button');\n",
              "  inputElement.parentElement.appendChild(cancel);\n",
              "  cancel.textContent = 'Cancel upload';\n",
              "  const cancelPromise = new Promise((resolve) => {\n",
              "    cancel.onclick = () => {\n",
              "      resolve(null);\n",
              "    };\n",
              "  });\n",
              "\n",
              "  // Wait for the user to pick the files.\n",
              "  const files = yield {\n",
              "    promise: Promise.race([pickedPromise, cancelPromise]),\n",
              "    response: {\n",
              "      action: 'starting',\n",
              "    }\n",
              "  };\n",
              "\n",
              "  cancel.remove();\n",
              "\n",
              "  // Disable the input element since further picks are not allowed.\n",
              "  inputElement.disabled = true;\n",
              "\n",
              "  if (!files) {\n",
              "    return {\n",
              "      response: {\n",
              "        action: 'complete',\n",
              "      }\n",
              "    };\n",
              "  }\n",
              "\n",
              "  for (const file of files) {\n",
              "    const li = document.createElement('li');\n",
              "    li.append(span(file.name, {fontWeight: 'bold'}));\n",
              "    li.append(span(\n",
              "        `(${file.type || 'n/a'}) - ${file.size} bytes, ` +\n",
              "        `last modified: ${\n",
              "            file.lastModifiedDate ? file.lastModifiedDate.toLocaleDateString() :\n",
              "                                    'n/a'} - `));\n",
              "    const percent = span('0% done');\n",
              "    li.appendChild(percent);\n",
              "\n",
              "    outputElement.appendChild(li);\n",
              "\n",
              "    const fileDataPromise = new Promise((resolve) => {\n",
              "      const reader = new FileReader();\n",
              "      reader.onload = (e) => {\n",
              "        resolve(e.target.result);\n",
              "      };\n",
              "      reader.readAsArrayBuffer(file);\n",
              "    });\n",
              "    // Wait for the data to be ready.\n",
              "    let fileData = yield {\n",
              "      promise: fileDataPromise,\n",
              "      response: {\n",
              "        action: 'continue',\n",
              "      }\n",
              "    };\n",
              "\n",
              "    // Use a chunked sending to avoid message size limits. See b/62115660.\n",
              "    let position = 0;\n",
              "    do {\n",
              "      const length = Math.min(fileData.byteLength - position, MAX_PAYLOAD_SIZE);\n",
              "      const chunk = new Uint8Array(fileData, position, length);\n",
              "      position += length;\n",
              "\n",
              "      const base64 = btoa(String.fromCharCode.apply(null, chunk));\n",
              "      yield {\n",
              "        response: {\n",
              "          action: 'append',\n",
              "          file: file.name,\n",
              "          data: base64,\n",
              "        },\n",
              "      };\n",
              "\n",
              "      let percentDone = fileData.byteLength === 0 ?\n",
              "          100 :\n",
              "          Math.round((position / fileData.byteLength) * 100);\n",
              "      percent.textContent = `${percentDone}% done`;\n",
              "\n",
              "    } while (position < fileData.byteLength);\n",
              "  }\n",
              "\n",
              "  // All done.\n",
              "  yield {\n",
              "    response: {\n",
              "      action: 'complete',\n",
              "    }\n",
              "  };\n",
              "}\n",
              "\n",
              "scope.google = scope.google || {};\n",
              "scope.google.colab = scope.google.colab || {};\n",
              "scope.google.colab._files = {\n",
              "  _uploadFiles,\n",
              "  _uploadFilesContinue,\n",
              "};\n",
              "})(self);\n",
              "</script> "
            ]
          },
          "metadata": {}
        },
        {
          "output_type": "stream",
          "name": "stdout",
          "text": [
            "Saving card.csv to card (1).csv\n"
          ]
        }
      ]
    },
    {
      "cell_type": "markdown",
      "metadata": {
        "id": "856yefHCuK2D"
      },
      "source": [
        "### csv 파일을 파이썬으로 읽어오기\n",
        "\n",
        "\n",
        "\n",
        "1.   파일 open\n",
        "2.   파일 읽기 reader\n",
        "3.   파일 헤더 건너뛰기\n",
        "4.   파일을 리스트로 바꾸기\n",
        "\n",
        "\n",
        "\n",
        "```\n",
        "# csv 라이브러리 임포트\n",
        "import csv\n",
        "\n",
        "f = open('파일명.csv')         # 파일 오픈\n",
        "data = csv.reader(f)         # 파일 읽기 reader\n",
        "next(data)                   # 파일 헤더 건너뛰기\n",
        "data = list(data)            # 파일 리스트로 바꾸기\n",
        "```\n",
        "\n"
      ]
    },
    {
      "cell_type": "code",
      "metadata": {
        "id": "--E-FxMCuRlC"
      },
      "source": [
        "import csv\n",
        "\n",
        "f = open('card.csv')         # 파일 오픈\n",
        "data = csv.reader(f)         # 파일 읽기 reader\n",
        "next(data)                   # 파일 헤더 건너뛰기\n",
        "data = list(data)            # 파일 리스트로 바꾸기"
      ],
      "execution_count": 2,
      "outputs": []
    },
    {
      "cell_type": "code",
      "metadata": {
        "id": "q3t86Z5LuRm7",
        "colab": {
          "base_uri": "https://localhost:8080/"
        },
        "outputId": "93aa4f00-4574-421b-e72d-7626cf68fbb4"
      },
      "source": [
        "print(data[0])"
      ],
      "execution_count": 3,
      "outputs": [
        {
          "output_type": "stream",
          "name": "stdout",
          "text": [
            "['2019-10-12 9:13', '1972753', '본', 'S&', '185', '네이버파이낸셜(주)', '546800', '일시불(A)', '부분취소']\n"
          ]
        }
      ]
    },
    {
      "cell_type": "markdown",
      "metadata": {
        "id": "QjjysIWDqm34"
      },
      "source": [
        "<img src='https://github.com/teacher-jiejie/allinone_AI/blob/images/64_%EC%B9%B4%EB%93%9C%EB%8D%B0%EC%9D%B4%ED%84%B0.png?raw=true'>"
      ]
    },
    {
      "cell_type": "code",
      "metadata": {
        "colab": {
          "base_uri": "https://localhost:8080/"
        },
        "id": "AaAfV1s_qzOR",
        "outputId": "533bdee5-4275-4553-b54d-ff7e89fb1ca8"
      },
      "source": [
        "# 총 데이터의 개수는?\n",
        "len(data)"
      ],
      "execution_count": null,
      "outputs": [
        {
          "output_type": "execute_result",
          "data": {
            "text/plain": [
              "236"
            ]
          },
          "metadata": {
            "tags": []
          },
          "execution_count": 5
        }
      ]
    },
    {
      "cell_type": "markdown",
      "metadata": {
        "id": "mCKJAnCsuO7z"
      },
      "source": [
        "# 2. 데이터 다뤄보기"
      ]
    },
    {
      "cell_type": "markdown",
      "metadata": {
        "id": "89v0MUZ4y0uJ"
      },
      "source": [
        "<img src ='https://github.com/teacher-jiejie/allinone_AI/blob/images/19_%EB%8D%B0%EC%9D%B4%ED%84%B0%20%EA%B5%AC%EC%A1%B0.png?raw=true' width=600>"
      ]
    },
    {
      "cell_type": "code",
      "metadata": {
        "id": "0SSz-ZSvuRrV"
      },
      "source": [
        "# 카드이용일자 모두 출력하기\n",
        "for row in data :\n",
        "    print(row[0])"
      ],
      "execution_count": null,
      "outputs": []
    },
    {
      "cell_type": "code",
      "metadata": {
        "id": "RIz2XBOey6wh"
      },
      "source": [
        "# 카드 사용금액 모두 출력하기\n",
        "for row in data :\n",
        "    print(row[-3])"
      ],
      "execution_count": null,
      "outputs": []
    },
    {
      "cell_type": "markdown",
      "metadata": {
        "id": "RzWt9ggxy7Ap"
      },
      "source": [
        "<img src ='https://github.com/teacher-jiejie/allinone_AI/blob/images/20_%EB%8D%B0%EC%9D%B4%ED%84%B0%EB%B6%84%EC%84%9D%20%EB%B0%98%EB%B3%B5%EB%AC%B8.png?raw=true' width=800>"
      ]
    },
    {
      "cell_type": "code",
      "metadata": {
        "id": "JdHc9hvCy6y7"
      },
      "source": [
        "# 카드 사용처와 금액 모두 출력하기\n",
        "for row in data :\n",
        "    print(row[5],'에서',row[6],'원 사용')"
      ],
      "execution_count": null,
      "outputs": []
    },
    {
      "cell_type": "code",
      "metadata": {
        "id": "NgwKIIVszjfN"
      },
      "source": [
        "# 카드 사용처와 금액 모두 출력하기\n",
        "for row in data :\n",
        "    store = row[5]\n",
        "    payment = row[6]\n",
        "    print(store,'에서',payment,'원 사용')"
      ],
      "execution_count": null,
      "outputs": []
    },
    {
      "cell_type": "markdown",
      "metadata": {
        "id": "1IpuG5Jvy7Vk"
      },
      "source": [
        "<img src = 'https://github.com/teacher-jiejie/allinone_AI/blob/images/21_%EB%8D%B0%EC%9D%B4%ED%84%B0%EB%B6%84%EC%84%9D_%EB%B0%98%EB%B3%B5%EB%AC%B82.png?raw=true' width=800>"
      ]
    },
    {
      "cell_type": "markdown",
      "metadata": {
        "id": "k2rdRhwfAkES"
      },
      "source": [
        "### 3개월간 사용한 총 금액 구하기\n",
        "\n",
        "프로그램 흐름 생각해보기\n",
        "\n",
        "\n",
        "```\n",
        "1. 총 지출액을 저장할 변수(spend)를 만들고 초깃값 0 저장하기\n",
        "2. 전체 이용내역(data)을 돌며 반복하기\n",
        "  2.1 이용금액(row[-3])만 골라 총 지출액(spend)에 더하기\n",
        "```\n",
        "\n"
      ]
    },
    {
      "cell_type": "code",
      "metadata": {
        "id": "XDbYFvliy61T",
        "colab": {
          "base_uri": "https://localhost:8080/",
          "height": 207
        },
        "outputId": "7a0f1eeb-d571-4703-cf76-e3132b2f89cb"
      },
      "source": [
        "spend = 0\n",
        "\n",
        "for row in data :\n",
        "    spend += row[-3]"
      ],
      "execution_count": null,
      "outputs": [
        {
          "output_type": "error",
          "ename": "TypeError",
          "evalue": "ignored",
          "traceback": [
            "\u001b[0;31m---------------------------------------------------------------------------\u001b[0m",
            "\u001b[0;31mTypeError\u001b[0m                                 Traceback (most recent call last)",
            "\u001b[0;32m<ipython-input-7-f2b4283a9711>\u001b[0m in \u001b[0;36m<module>\u001b[0;34m()\u001b[0m\n\u001b[1;32m      3\u001b[0m \u001b[0;32mfor\u001b[0m \u001b[0mrow\u001b[0m \u001b[0;32min\u001b[0m \u001b[0mdata\u001b[0m \u001b[0;34m:\u001b[0m\u001b[0;34m\u001b[0m\u001b[0;34m\u001b[0m\u001b[0m\n\u001b[1;32m      4\u001b[0m     \u001b[0mpayment\u001b[0m \u001b[0;34m=\u001b[0m \u001b[0mrow\u001b[0m\u001b[0;34m[\u001b[0m\u001b[0;36m6\u001b[0m\u001b[0;34m]\u001b[0m\u001b[0;34m\u001b[0m\u001b[0;34m\u001b[0m\u001b[0m\n\u001b[0;32m----> 5\u001b[0;31m     \u001b[0mtotal\u001b[0m \u001b[0;34m+=\u001b[0m \u001b[0mpayment\u001b[0m\u001b[0;34m\u001b[0m\u001b[0;34m\u001b[0m\u001b[0m\n\u001b[0m",
            "\u001b[0;31mTypeError\u001b[0m: unsupported operand type(s) for +=: 'int' and 'str'"
          ]
        }
      ]
    },
    {
      "cell_type": "markdown",
      "metadata": {
        "id": "sk_9v2hLyrNk"
      },
      "source": [
        "> 파일로 읽어들인 데이터는 모두 문자이다.  </br>\n",
        "> 따라서 연산하려면 숫자로 변경해주어야 함!!"
      ]
    },
    {
      "cell_type": "markdown",
      "metadata": {
        "id": "ufHT8XZKBCLm"
      },
      "source": [
        "수정된 프로그램 흐름\n",
        "\n",
        "```\n",
        "1. 총 지출액을 저장할 변수(spend)를 만들고 초깃값 0 저장하기\n",
        "2. 전체 이용내역(data)을 돌며 반복하기\n",
        "  2.1 이용금액(row[-3])만 골라 정수형으로 변환한 후 총 지출액(spend)에 더하기\n",
        "```\n",
        "\n"
      ]
    },
    {
      "cell_type": "code",
      "metadata": {
        "id": "Oaq__8xwyu7P",
        "colab": {
          "base_uri": "https://localhost:8080/"
        },
        "outputId": "07d68dff-609c-4d6a-cfc9-504da2cf6cf8"
      },
      "source": [
        "spend = 0\n",
        "\n",
        "for row in data :\n",
        "    spend += int(row[-3])\n",
        "\n",
        "print(spend)"
      ],
      "execution_count": null,
      "outputs": [
        {
          "output_type": "stream",
          "text": [
            "11419825\n"
          ],
          "name": "stdout"
        }
      ]
    },
    {
      "cell_type": "markdown",
      "metadata": {
        "id": "R2gvf4J8rS9s"
      },
      "source": [
        "매입상태를 잘 살펴보자\n",
        "\n",
        "<img src='https://github.com/teacher-jiejie/allinone_AI/blob/images/64_%EC%B9%B4%EB%93%9C%EB%8D%B0%EC%9D%B4%ED%84%B0.png?raw=true' width=800>"
      ]
    },
    {
      "cell_type": "markdown",
      "metadata": {
        "id": "tLkg3gKbtAZe"
      },
      "source": [
        "수정된 프로그램 흐름\n",
        "\n",
        "```\n",
        "1. 총 지출액을 저장할 변수(spend)를 만들고 초깃값 0 저장하기\n",
        "2. 전체 이용내역(data)을 돌며 반복하기\n",
        "  2.1 매입상태(row[-1])가 '전표매입'이라면\n",
        "    2.1.1 이용금액(row[-3])만 골라 정수형으로 변환한 후 총 지출액(spend)에 더하기\n",
        "```\n",
        "\n"
      ]
    },
    {
      "cell_type": "code",
      "metadata": {
        "id": "-A7grbYry7JZ",
        "colab": {
          "base_uri": "https://localhost:8080/"
        },
        "outputId": "6c5437a0-6e64-4eab-eba0-49c1d0f1656e"
      },
      "source": [
        "spend = 0\n",
        "\n",
        "for row in data :\n",
        "    if row[-1] == '전표매입' :\n",
        "        spend += int(row[-3])\n",
        "\n",
        "print(spend)"
      ],
      "execution_count": null,
      "outputs": [
        {
          "output_type": "stream",
          "text": [
            "8174028\n"
          ],
          "name": "stdout"
        }
      ]
    },
    {
      "cell_type": "markdown",
      "metadata": {
        "id": "eaU_IIKYFAi_"
      },
      "source": [
        "# 3. 진짜! 데이터 분석!"
      ]
    },
    {
      "cell_type": "markdown",
      "metadata": {
        "id": "KKcsbWawz7_8"
      },
      "source": [
        "\n",
        "### 1) 10월, 11월, 12월 지출액을 막대그래프로 그리기\n",
        "\n",
        "<img src='https://github.com/teacher-jiejie/allinone_AI/blob/images/83_%ED%95%98%EC%9C%84%EB%AA%A9%ED%91%9C1.png?raw=true' width=300>\n",
        "\n",
        "Q. 그래프로 표현하려면 plt.bar()안에 뭐가 필요할까?\n",
        "\n"
      ]
    },
    {
      "cell_type": "markdown",
      "metadata": {
        "id": "b0rJSIsNxZq4"
      },
      "source": [
        "<img src = 'https://github.com/teacher-jiejie/allinone_AI/blob/images/24_%EC%B9%B4%EB%93%9C%20%EB%A6%AC%EC%8A%A4%ED%8A%B8.png?raw=true' width = 400>\n",
        "\n",
        "</br>\n",
        "</br>\n",
        "\n",
        "*   10월 -> [0]\n",
        "*   11월 -> [1]\n",
        "*   12월 -> [2]\n",
        "\n",
        "</br>\n",
        "\n",
        "Q. 규칙을 발견하셨나요?\n"
      ]
    },
    {
      "cell_type": "code",
      "metadata": {
        "id": "DRJXI5T-2EPT",
        "colab": {
          "base_uri": "https://localhost:8080/",
          "height": 36
        },
        "outputId": "013a0110-4e13-4be4-fe53-ad0f44112eb3"
      },
      "source": [
        "data[0][0]"
      ],
      "execution_count": null,
      "outputs": [
        {
          "output_type": "execute_result",
          "data": {
            "application/vnd.google.colaboratory.intrinsic+json": {
              "type": "string"
            },
            "text/plain": [
              "'2019-10-12 9:13'"
            ]
          },
          "metadata": {
            "tags": []
          },
          "execution_count": 54
        }
      ]
    },
    {
      "cell_type": "code",
      "metadata": {
        "id": "nzbtTm8H2Io6",
        "colab": {
          "base_uri": "https://localhost:8080/",
          "height": 36
        },
        "outputId": "d0495357-3826-4674-d6e2-58768cc20389"
      },
      "source": [
        "data[0][0].split('-')"
      ],
      "execution_count": null,
      "outputs": [
        {
          "output_type": "execute_result",
          "data": {
            "text/plain": [
              "['2019', '10', '12 9:13']"
            ]
          },
          "metadata": {
            "tags": []
          },
          "execution_count": 55
        }
      ]
    },
    {
      "cell_type": "markdown",
      "metadata": {
        "id": "gfP5bwPUCs7V"
      },
      "source": [
        "프로그램 흐름 생각해보기\n",
        "\n",
        "\n",
        "```\n",
        "1. 10~12월의 월별 지출액을 저장할 리스트(s_mon)를 만들고 초깃값 0 저장하기\n",
        "2. 전체 이용내역(data)을 돌며 반복하기\n",
        "  2.1 각 이용내역에서 매입상태가 '전표매입'이라면\n",
        "    2.1.1 해당 건의 이용월과 이용금액 구하기\n",
        "    2.1.2. 이용월에서 10을 빼 월별 지출액 리스트(s_mon)의 인덱스(idx) 구하기\n",
        "    2.1.3 과정 2.1.2에서 구한 인덱스의 값(s_mon[idx])에 과정 2.1.1에서 구한 이용금액 더하기\n",
        "3. 월별 지출액 리스트(s_mon)로 막대그래프 그리기\n",
        "```\n",
        "\n"
      ]
    },
    {
      "cell_type": "code",
      "metadata": {
        "id": "t2ja02zPy7L7",
        "colab": {
          "base_uri": "https://localhost:8080/",
          "height": 251
        },
        "outputId": "7b412c98-8e30-49c5-f020-367de0a99cb3"
      },
      "source": [
        "s_mon = [0, 0, 0]\n",
        "\n",
        "for row in data :\n",
        "    if row[-1] == '전표매입' :\n",
        "        mon = row[0].split('-')[1]\n",
        "        idx = mon - 10\n",
        "        payment = int(row[6])\n",
        "        s_mon[idx] += payment\n",
        "\n",
        "print(s_mon)"
      ],
      "execution_count": null,
      "outputs": [
        {
          "output_type": "error",
          "ename": "TypeError",
          "evalue": "ignored",
          "traceback": [
            "\u001b[0;31m---------------------------------------------------------------------------\u001b[0m",
            "\u001b[0;31mTypeError\u001b[0m                                 Traceback (most recent call last)",
            "\u001b[0;32m<ipython-input-60-49bddc8126d0>\u001b[0m in \u001b[0;36m<module>\u001b[0;34m()\u001b[0m\n\u001b[1;32m      6\u001b[0m     \u001b[0;32mif\u001b[0m \u001b[0mrow\u001b[0m\u001b[0;34m[\u001b[0m\u001b[0;34m-\u001b[0m\u001b[0;36m1\u001b[0m\u001b[0;34m]\u001b[0m \u001b[0;34m==\u001b[0m \u001b[0;34m'전표매입'\u001b[0m \u001b[0;34m:\u001b[0m\u001b[0;34m\u001b[0m\u001b[0;34m\u001b[0m\u001b[0m\n\u001b[1;32m      7\u001b[0m         \u001b[0mmon\u001b[0m \u001b[0;34m=\u001b[0m \u001b[0mrow\u001b[0m\u001b[0;34m[\u001b[0m\u001b[0;36m0\u001b[0m\u001b[0;34m]\u001b[0m\u001b[0;34m.\u001b[0m\u001b[0msplit\u001b[0m\u001b[0;34m(\u001b[0m\u001b[0;34m'-'\u001b[0m\u001b[0;34m)\u001b[0m\u001b[0;34m[\u001b[0m\u001b[0;36m1\u001b[0m\u001b[0;34m]\u001b[0m\u001b[0;34m\u001b[0m\u001b[0;34m\u001b[0m\u001b[0m\n\u001b[0;32m----> 8\u001b[0;31m         \u001b[0midx\u001b[0m \u001b[0;34m=\u001b[0m \u001b[0mmon\u001b[0m \u001b[0;34m-\u001b[0m \u001b[0;36m10\u001b[0m\u001b[0;34m\u001b[0m\u001b[0;34m\u001b[0m\u001b[0m\n\u001b[0m\u001b[1;32m      9\u001b[0m         \u001b[0mpayment\u001b[0m \u001b[0;34m=\u001b[0m \u001b[0mint\u001b[0m\u001b[0;34m(\u001b[0m\u001b[0mrow\u001b[0m\u001b[0;34m[\u001b[0m\u001b[0;36m6\u001b[0m\u001b[0;34m]\u001b[0m\u001b[0;34m)\u001b[0m\u001b[0;34m\u001b[0m\u001b[0;34m\u001b[0m\u001b[0m\n\u001b[1;32m     10\u001b[0m         \u001b[0mspend\u001b[0m\u001b[0;34m[\u001b[0m\u001b[0midx\u001b[0m\u001b[0;34m]\u001b[0m \u001b[0;34m+=\u001b[0m \u001b[0mpayment\u001b[0m\u001b[0;34m\u001b[0m\u001b[0;34m\u001b[0m\u001b[0m\n",
            "\u001b[0;31mTypeError\u001b[0m: unsupported operand type(s) for -: 'str' and 'int'"
          ]
        }
      ]
    },
    {
      "cell_type": "code",
      "metadata": {
        "id": "HTNFp2EZy7OD",
        "colab": {
          "base_uri": "https://localhost:8080/",
          "height": 36
        },
        "outputId": "10923fe9-aa42-4a1b-ad15-c5dba54f6977"
      },
      "source": [
        "s_mon = [0, 0, 0]\n",
        "\n",
        "for row in data :\n",
        "    if row[-1] == '전표매입' :\n",
        "        mon = int(row[0].split('-')[1])\n",
        "        idx = mon - 10\n",
        "        payment = int(row[6])\n",
        "        s_mon[idx] += payment\n",
        "\n",
        "print(s_mon)"
      ],
      "execution_count": null,
      "outputs": [
        {
          "output_type": "stream",
          "text": [
            "[2093015, 4127744, 1953269]\n"
          ],
          "name": "stdout"
        }
      ]
    },
    {
      "cell_type": "code",
      "metadata": {
        "id": "i2-cuPNs2y9d",
        "colab": {
          "base_uri": "https://localhost:8080/"
        },
        "outputId": "074c6842-a993-467d-c70d-3c58ff78aa98"
      },
      "source": [
        "# 초간단ver\n",
        "s_mon = [0, 0, 0]\n",
        "\n",
        "for row in data :\n",
        "    if row[-1] == '전표매입' :\n",
        "        s_mon[int(row[0].split('-')[1]) - 10 ] += int(row[6])\n",
        "\n",
        "print(s_mon)"
      ],
      "execution_count": null,
      "outputs": [
        {
          "output_type": "stream",
          "text": [
            "[2093015, 4127744, 1953269]\n"
          ],
          "name": "stdout"
        }
      ]
    },
    {
      "cell_type": "code",
      "metadata": {
        "id": "VxmnUsvcy7Qq",
        "colab": {
          "base_uri": "https://localhost:8080/",
          "height": 383
        },
        "outputId": "6cd86989-37f4-4426-870f-cfae595fec33"
      },
      "source": [
        "import matplotlib.pyplot as plt\n",
        "\n",
        "plt.figure(dpi=100)\n",
        "plt.rc('font',family ='NanumGothic')\n",
        "plt.title('10-12월 지출현황')\n",
        "plt.bar(['10월','11월','12월'], s_mon, color = 'royalblue')\n",
        "plt.show()"
      ],
      "execution_count": null,
      "outputs": [
        {
          "output_type": "display_data",
          "data": {
            "image/png": "[encoded data removed]",
            "text/plain": [
              "<Figure size 600x400 with 1 Axes>"
            ]
          },
          "metadata": {
            "tags": [],
            "needs_background": "light"
          }
        }
      ]
    },
    {
      "cell_type": "markdown",
      "metadata": {
        "id": "dfK9j1ZQSrBX"
      },
      "source": [
        "지수표기법 e를 검색해보세요!"
      ]
    },
    {
      "cell_type": "markdown",
      "metadata": {
        "id": "CJIzyZgU3nAD"
      },
      "source": [
        "### 2) 월별 택시 이용 금액 구하기"
      ]
    },
    {
      "cell_type": "markdown",
      "metadata": {
        "id": "s2wFwrVoCyaS"
      },
      "source": [
        "프로그램 흐름 생각해보기\n",
        "\n",
        "\n",
        "```\n",
        "1. 10-12월의 월별 택시비 지출액을 저장할 리스트(taxi)를 만들고 각 월별 택시 지출액의 초깃값을 0으로 저장하기\n",
        "2. 전체 이용내역(data)를 돌며 반복하기\n",
        "  2.1 매입상태(row[-1])가 '전표매입'이고, 가맹점명에 '택시'가 있다면\n",
        "    2.1.1 해당 건의 이용월 구하고, 이용금액도 구하기\n",
        "    2.1.2 이용월에서 10을 빼서 taxi의 인덱스 구하기\n",
        "    2.1.3 taxi[인덱스] += 이용금액\n",
        "3. 월별 지출액 리스트로 막대그래프 그리기\n",
        "```\n",
        "\n"
      ]
    },
    {
      "cell_type": "code",
      "metadata": {
        "id": "NAKsjo--zCXX",
        "colab": {
          "base_uri": "https://localhost:8080/",
          "height": 409
        },
        "outputId": "47cab11b-2433-447e-a7b2-8b051d387251"
      },
      "source": [
        "taxi = [0, 0, 0]\n",
        "\n",
        "for row in data :\n",
        "    if row[-1] == '전표매입' and '택시' in row[5] :\n",
        "        mon = int(row[0].split('-')[1])\n",
        "        payment = int(row[-3])\n",
        "        idx = mon-10\n",
        "        taxi[idx] += payment\n",
        "\n",
        "print(taxi)"
      ],
      "execution_count": null,
      "outputs": [
        {
          "output_type": "stream",
          "text": [
            "카카오페이(택시) 10 월 [4200, 0, 0]\n",
            "티머니 개인택시 10 월 [8600, 0, 0]\n",
            "티머니 개인택시 11 월 [8600, 4700, 0]\n",
            "티머니 개인택시 11 월 [8600, 12800, 0]\n",
            "카카오페이(택시) 11 월 [8600, 19600, 0]\n",
            "카카오페이(택시) 11 월 [8600, 24600, 0]\n",
            "티머니 개인택시 11 월 [8600, 34700, 0]\n",
            "카카오페이(택시) 11 월 [8600, 62600, 0]\n",
            "카카오페이(택시) 11 월 [8600, 73000, 0]\n",
            "카카오페이(택시) 11 월 [8600, 78600, 0]\n",
            "카카오페이(택시) 11 월 [8600, 83900, 0]\n",
            "카카오페이(택시) 12 월 [8600, 83900, 5900]\n",
            "카카오페이(택시)1 12 월 [8600, 83900, 13600]\n",
            "카카오페이(택시) 12 월 [8600, 83900, 14600]\n",
            "카카오페이(택시)1 12 월 [8600, 83900, 23300]\n",
            "카카오페이(택시) 12 월 [8600, 83900, 24300]\n",
            "디지비유페이택시개인1 12 월 [8600, 83900, 30600]\n",
            "티머니 법인택시 12 월 [8600, 83900, 44100]\n",
            "티머니 법인택시 12 월 [8600, 83900, 47900]\n",
            "카카오페이(택시) 12 월 [8600, 83900, 52800]\n",
            "[8600, 83900, 52800]\n"
          ],
          "name": "stdout"
        }
      ]
    },
    {
      "cell_type": "code",
      "metadata": {
        "id": "k9rWiM2y31QN",
        "colab": {
          "base_uri": "https://localhost:8080/"
        },
        "outputId": "d210efe6-15cf-4908-bcfe-bf05f7667b02"
      },
      "source": [
        "# 초간단 ver\n",
        "taxi = [0,0,0]\n",
        "\n",
        "for row in data :\n",
        "    if row[-1] == '전표매입' and '택시' in row[5] :\n",
        "        taxi[int(row[0].split('-')[1])-10] += int(row[-3])\n",
        "\n",
        "print(taxi)"
      ],
      "execution_count": null,
      "outputs": [
        {
          "output_type": "stream",
          "text": [
            "[8600, 83900, 52800]\n"
          ],
          "name": "stdout"
        }
      ]
    },
    {
      "cell_type": "code",
      "metadata": {
        "id": "eC-54uUm31So",
        "colab": {
          "base_uri": "https://localhost:8080/",
          "height": 383
        },
        "outputId": "d133940c-76e1-40a3-9626-a4e9bf501350"
      },
      "source": [
        "plt.figure(dpi=100)\n",
        "plt.title('10-12월 택시비 지출 현황')\n",
        "plt.plot(['10월','11월','12월'],taxi, color = 'crimson', label ='택시 지출액')\n",
        "plt.legend()\n",
        "plt.show()"
      ],
      "execution_count": null,
      "outputs": [
        {
          "output_type": "display_data",
          "data": {
            "image/png": "[encoded data removed]",
            "text/plain": [
              "<Figure size 600x400 with 1 Axes>"
            ]
          },
          "metadata": {
            "tags": [],
            "needs_background": "light"
          }
        }
      ]
    },
    {
      "cell_type": "markdown",
      "metadata": {
        "id": "9yQp40sX31ar"
      },
      "source": [
        "### 3) 월별 배달 이용 금액 구하기"
      ]
    },
    {
      "cell_type": "code",
      "metadata": {
        "id": "IU4xutnd31VM",
        "colab": {
          "base_uri": "https://localhost:8080/"
        },
        "outputId": "fd269903-6287-4f06-ae82-54d795aa1e15"
      },
      "source": [
        "deli = [0,0,0]\n",
        "\n",
        "for row in data :\n",
        "    if row[-1] == '전표매입' and row[5] == '(주)우아한형제들':\n",
        "        mon = int(row[0].split('-')[1])\n",
        "        idx = mon-10\n",
        "        payment = int(row[-3])\n",
        "        deli[idx] += payment\n",
        "\n",
        "print(deli)"
      ],
      "execution_count": null,
      "outputs": [
        {
          "output_type": "stream",
          "text": [
            "[134300, 127900, 99230]\n"
          ],
          "name": "stdout"
        }
      ]
    },
    {
      "cell_type": "code",
      "metadata": {
        "id": "nIoEOuNJ31fz",
        "colab": {
          "base_uri": "https://localhost:8080/",
          "height": 383
        },
        "outputId": "1a979c9d-a9cb-498a-d14c-7cd1ec684725"
      },
      "source": [
        "plt.figure(dpi=100)\n",
        "\n",
        "plt.title('10-12월 배달음식 지출 현황')\n",
        "plt.plot(['10월','11월','12월'], deli, color = 'indigo', label ='배달음식 지출액')\n",
        "plt.legend()\n",
        "plt.show()"
      ],
      "execution_count": null,
      "outputs": [
        {
          "output_type": "display_data",
          "data": {
            "image/png": "[encoded data removed]",
            "text/plain": [
              "<Figure size 600x400 with 1 Axes>"
            ]
          },
          "metadata": {
            "tags": [],
            "needs_background": "light"
          }
        }
      ]
    },
    {
      "cell_type": "markdown",
      "metadata": {
        "id": "A2F6ROi_4Rix"
      },
      "source": [
        "### 4) 택시 지출액과 배달음식 지출액 비교하기\n",
        "\n",
        "<img src='https://github.com/Ahnjihye/allinone_AI/blob/images/84_%ED%95%98%EC%9C%84%EB%AA%A9%ED%91%9C2.png?raw=true' width=300>"
      ]
    },
    {
      "cell_type": "markdown",
      "metadata": {
        "id": "DU3V80mxS9Mh"
      },
      "source": [
        "여러 그래프 한 번에 표시하기\n",
        "\n",
        "\n",
        "```\n",
        "# 그래프 그리는 명령어를 여러개 작성하고, plt.show()를 마지막에 한번만 작성\n",
        "plt.plot(리스트A)\n",
        "plt.plot(리스트B)\n",
        "plt.show()\n",
        "```\n",
        "\n"
      ]
    },
    {
      "cell_type": "code",
      "metadata": {
        "colab": {
          "base_uri": "https://localhost:8080/",
          "height": 383
        },
        "id": "tXcHIDs7-k9E",
        "outputId": "4debd049-dfda-4907-bf16-ec956e956656"
      },
      "source": [
        "plt.figure(dpi=100)\n",
        "\n",
        "plt.title('10-12월 택시/배달음식 지출 현황')\n",
        "\n",
        "plt.plot(['10월', '11월','12월'], taxi, color = 'crimson', label = '택시 지출액')\n",
        "plt.plot(['10월','11월','12월'], deli, color = 'indigo', label='배달음식 지출액')\n",
        "\n",
        "plt.legend()\n",
        "plt.show()"
      ],
      "execution_count": null,
      "outputs": [
        {
          "output_type": "display_data",
          "data": {
            "image/png": "[encoded data removed]",
            "text/plain": [
              "<Figure size 600x400 with 1 Axes>"
            ]
          },
          "metadata": {
            "tags": [],
            "needs_background": "light"
          }
        }
      ]
    },
    {
      "cell_type": "markdown",
      "source": [
        "# **지출액 상위 10개 항목 뽑기**"
      ],
      "metadata": {
        "id": "nPR_DZZ3h5Aw"
      }
    },
    {
      "cell_type": "markdown",
      "source": [
        "# 가맹점별 지출액을 저장하는 딕셔너리 만들기"
      ],
      "metadata": {
        "id": "bwk_8lmdims_"
      }
    },
    {
      "cell_type": "code",
      "metadata": {
        "id": "yADCELZdK792",
        "colab": {
          "base_uri": "https://localhost:8080/"
        },
        "outputId": "e5d2969a-1aba-4ea9-8907-6a41f65bd982"
      },
      "source": [
        "spending = {}\n",
        "\n",
        "for row in data :\n",
        "    if row[-1] == '전표매입' :\n",
        "        store, payment = row[-4], int(row[-3])\n",
        "        if store not in spending.keys() :\n",
        "            spending[store] = payment\n",
        "        else :\n",
        "            spending[store] += payment\n",
        "\n",
        "print(spending)"
      ],
      "execution_count": 5,
      "outputs": [
        {
          "output_type": "stream",
          "name": "stdout",
          "text": [
            "{'GS  샵': 60440, 'G마켓': 201630, '11번가': 151010, '네이버파이낸셜(주)': 1395840, '(주)에이랜드 타임스퀘어': 31600, '(주)곱': 96000, '카카오페이(택시)': 78000, '포도당': 75000, '에뛰드': 26410, '미니스톱신촌점': 1300, '(주)우아한형제들': 361430, '스패뉴시청지점': 61800, '티머니 개인택시': 27300, '스타벅스코리아': 100000, '전화결제': 207000, '케이데코(K Deco)': 48000, '씨제이올리브영(주)합정메세나폴': 23200, '타르타르홍대점': 23100, '연세내과의원': 159800, '나폴레옹과자점': 52600, '홈플러스익스프레스신촌점': 3990, '롯데E커머스': 16241, '(주)에스쁘아': 28500, '(주)현대백화점신촌점': 415502, 'SSG.COM': 260259, 'GS25 문래미원점': 1500, '(주)라크라센타본점': 18700, '크로키닷컴': 299610, '(주)이랜드월드영등포타임스퀘어': 100, '빠레뜨한남': 56500, '(주)신세계백화점강남점': 333800, '(주)엔터식스패션쇼핑몰 강남점': 26000, '어반플랜트': 57000, '곤트란쉐리에 합정점': 7830, '(주)갈라인터내셔널': 68500, '씨제이올리브영(주)신세계': 42020, '카페마마스타임스퀘어점': 64400, '조아약국': 2300, '씨유신촌제일점': 14200, '(주)이마트  신촌점': 305690, '스마일페이 (신라면세점)': 978035, '(주)디지탈명성텍': 4075, 'CU 오목교스퀘어점': 1600, '써브웨이 오목교점': 5900, '갤러리아명품관식품': 18200, '씨제이올리브영(주) 신촌역점': 29600, '파리바게뜨 (신촌점)': 3000, '(주)다른코스메틱스': 29000, '이유': 285000, '씨제이올리브영(주) 신촌': 9200, '주식회사 아성다이소': 11000, '마트온누리약국': 12000, '카카오 T_카카오페이': 4000, '밸런스약국': 76000, '씨제이올리브영(주)인천공항제2': 13000, '잠바주스 인천공항T2-3호점': 14400, '(주)아워홈푸디움인천공항제2터': 8000, '배스킨라빈스  분당파크타운': 22000, '아모레퍼시픽': 40750, '한살림서울생활협동조합신촌매장': 22100, '파리크라상 연세세브란스점': 5400, '한국철도공사 (직승인)': 82600, '(주)인터파크': 160000, '우정사업본부(우체국)': 240, '(주)스타벅스커피코리아': 40000, '파리바게뜨  양평비즈타워점': 1900, '에프알엘코리아(주)': 35700, '쿠팡': 273790, '㈜젠코스메티코스': 60800, '웃는하루치과': 23000, '(주)파리크라상 쉐이크쉑 AK분당': 14800, 'CU 대구중구문화점': 10700, '낙영찜갈비': 60000, '카카오페이(택시)1': 16400, '지에스 25 수성유원지점': 4200, '우즈베이커리카페 수성호수점': 15300, '디지비유페이택시개인1': 6300, '코레일유통(주)대구지점': 8500, '티머니 법인택시': 17300, '투썸플레이스 교대역점': 5100, '고스트요거트': 4900, '(주)교보문고': 14860, '쉐프조': 7600, '이니시스-정기과금': 100000, '고봉민김밥': 7500, 'KFC서울타임스퀘어': 14400, '네이버페이': 374976, '카페마마스  강남역지점': 16800}\n"
          ]
        }
      ]
    },
    {
      "cell_type": "markdown",
      "source": [
        "# 지출액 상위 10개 가맹점 골라 그래프 그리기"
      ],
      "metadata": {
        "id": "GrZtpQVjivaX"
      }
    },
    {
      "cell_type": "code",
      "source": [
        "import operator\n",
        "import matplotlib.pyplot as plt\n",
        "\n",
        "top10 = sorted(spending.items(), key = operator.itemgetter(1), reverse=True)[:10]\n",
        "\n",
        "top10_store = []\n",
        "top10_amount = []\n",
        "\n",
        "for t in top10 :\n",
        "    top10_store.append(t[0])\n",
        "    top10_amount.append(t[1])\n",
        "\n",
        "plt.rc('font', family = 'NanumGothic')\n",
        "plt.title('10-12월 지출 TOP 10')\n",
        "plt.barh(top10_store, top10_amount, color = 'b')\n",
        "plt.show()"
      ],
      "metadata": {
        "colab": {
          "base_uri": "https://localhost:8080/",
          "height": 467
        },
        "id": "shMKI0wkikiv",
        "outputId": "0799ad34-3005-4308-c8bc-23dc3bf70802"
      },
      "execution_count": 6,
      "outputs": [
        {
          "output_type": "display_data",
          "data": {
            "text/plain": [
              "<Figure size 640x480 with 1 Axes>"
            ],
            "image/png": "[encoded data removed]"
          },
          "metadata": {}
        }
      ]
    }
  ]
}